{
 "cells": [
  {
   "cell_type": "markdown",
   "metadata": {},
   "source": [
    "$$\\Delta_1 = \\frac{u_1}{m+u_1+u_2+u_3}$$\n",
    "$$\\Delta_2 = \\frac{u_2}{m+u_2+u_3}$$\n",
    "$$\\Delta_3 = \\frac{u_3}{m+u_3}$$\n",
    "$$[\\Delta_1+\\Delta_2+\\Delta_3] \\rightarrow \\max_{u_1, u_2, u_3}$$\n",
    "$$x_k = x_{k-1}-u_k$$"
   ]
  },
  {
   "cell_type": "markdown",
   "metadata": {},
   "source": [
    "$$S_1(x_2) = \\max \\lbrace \\frac{u_3}{m+x_2} + S_0(x_2 - u_3): 0 \\leq u_3 \\leq x_2 \\rbrace$$\n",
    "$$S_2(x_1)=\\max \\lbrace \\frac{u_2}{m+x_1} + S_1(x_1-u_2): 0 \\leq u_2 \\leq x_1 \\rbrace$$\n",
    "$$S_3(x_0)=\\max \\lbrace \\frac{u_1}{m+x_0} + S_2(x_0 - u_1): 0 \\leq u_1 \\leq x_0 \\rbrace$$"
   ]
  },
  {
   "cell_type": "markdown",
   "metadata": {},
   "source": [
    "$$ S_k(x_{N-k}) = \\max \\lbrace \\frac{u_{N-k+1}}{m + x_{N-k}} + S_{k - 1}(x_{N-k} - u_{N-k+1}) : 0 \\leq u_{N-k+1} \\leq x_{N-k} \\rbrace $$"
   ]
  },
  {
   "cell_type": "code",
   "execution_count": null,
   "metadata": {},
   "outputs": [],
   "source": []
  }
 ],
 "metadata": {
  "language_info": {
   "name": "python"
  }
 },
 "nbformat": 4,
 "nbformat_minor": 2
}
