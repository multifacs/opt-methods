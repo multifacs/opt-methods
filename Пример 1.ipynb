{
 "cells": [
  {
   "cell_type": "code",
   "execution_count": 61,
   "metadata": {},
   "outputs": [],
   "source": [
    "import pandas as pd"
   ]
  },
  {
   "cell_type": "markdown",
   "metadata": {},
   "source": [
    "### Дано:"
   ]
  },
  {
   "cell_type": "code",
   "execution_count": 88,
   "metadata": {},
   "outputs": [
    {
     "name": "stdout",
     "output_type": "stream",
     "text": [
      "[0, 1, 2, 3]\n",
      "[1, 2, 3]\n"
     ]
    }
   ],
   "source": [
    "x_options = [0, 100, 200, 300, 400, 500, 600, 700, 800, 900]\n",
    "\n",
    "def P(x):\n",
    "    vals = [0, 150, 280, 410, 540, 660, 780, 890, 1000, 1100]\n",
    "    if int(x / 100) >= len(vals):\n",
    "        return -1\n",
    "    return vals[int(x / 100)]\n",
    "def Q(x):\n",
    "    vals = [0, 10, 20, 30, 50, 70, 100]\n",
    "    if int(x / 100) >= len(vals):\n",
    "        return -1\n",
    "    return vals[int(x / 100)]\n",
    "\n",
    "N = 3\n",
    "delta = 100\n",
    "E = 300\n",
    "alpha = 300\n",
    "\n",
    "x = [x for x in range(N + 1)]\n",
    "u = [x + 1 for x in range(N)]\n",
    "\n",
    "print(x)\n",
    "print(u)"
   ]
  },
  {
   "cell_type": "code",
   "execution_count": 63,
   "metadata": {},
   "outputs": [],
   "source": [
    "def change_law(k):\n",
    "    x_k_next = x[k] + u[k]\n",
    "    return x_k_next\n",
    "\n",
    "def spendings(k):\n",
    "    d = P(u[k]) + Q(x[k])\n",
    "    return d"
   ]
  },
  {
   "cell_type": "markdown",
   "metadata": {},
   "source": [
    "### Шаги"
   ]
  },
  {
   "cell_type": "markdown",
   "metadata": {},
   "source": [
    "$$S_1(x_2) = \\min\\lbrace P(u_3) + Q(x_2) + S_0(x_2 + u_3 - \\alpha): u_3 = \\max\\lbrace \\alpha - x_2; 0\\rbrace \\leq u_3 \\leq \\min\\lbrace 1\\alpha - x_2; \\alpha + E \\rbrace \\rbrace$$\n",
    "\n",
    "$$S_2(x_1) = \\min\\lbrace P(u_2) + Q(x_1) + S_1(x_1 + u_2 - \\alpha): u_2 = \\max\\lbrace \\alpha - x_1; 0\\rbrace  \\leq u_2 \\leq \\min\\lbrace 2\\alpha - x_1; \\alpha + E \\rbrace \\rbrace$$\n",
    "\n",
    "$$S_3(x_0) = \\min\\lbrace P(u_1) + Q(x_0) + S_2(x_0 + u_1 - \\alpha): u_1 = \\max\\lbrace \\alpha - x_0; 0\\rbrace \\leq u_1 \\leq \\min\\lbrace 3\\alpha - x_0; \\alpha + E \\rbrace \\rbrace$$"
   ]
  },
  {
   "cell_type": "markdown",
   "metadata": {},
   "source": []
  },
  {
   "cell_type": "code",
   "execution_count": 91,
   "metadata": {},
   "outputs": [],
   "source": [
    "def S(k, x):\n",
    "    if k == 0:\n",
    "        return (0, 0)\n",
    "    \n",
    "    def get_lower(x):\n",
    "        return max(alpha - x, 0)\n",
    "    def get_upper(x):\n",
    "        return min(k * alpha - x, alpha + E)\n",
    "    def get_possible_u(x):\n",
    "        possible_u = []\n",
    "        t = get_lower(x)\n",
    "        while t <= get_upper(x):\n",
    "            possible_u.append(t)\n",
    "            t += delta\n",
    "        return possible_u\n",
    "    possible_S = []\n",
    "    possible_u = get_possible_u(x)\n",
    "    \n",
    "    if len(possible_u) == 0:\n",
    "        return (-1, 0)\n",
    "\n",
    "    for u in possible_u:\n",
    "        if Q(x) == -1 or P(x) == -1:\n",
    "            return (-1, 0)\n",
    "        s = P(u) + Q(x) + S(k-1, x + u - alpha)[0]\n",
    "        possible_S.append(s)\n",
    "    u = []\n",
    "    min_S = min(possible_S)\n",
    "    for s in enumerate(possible_S):\n",
    "        if s[1] == min_S:\n",
    "            u.append(possible_u[s[0]])\n",
    "    return (min_S, u)"
   ]
  },
  {
   "cell_type": "code",
   "execution_count": 92,
   "metadata": {},
   "outputs": [],
   "source": [
    "def step(k):\n",
    "    print(\"k =\", k)\n",
    "    print(\"k + 1 = \", k+1)\n",
    "    print(\"x idx = \", N - k)\n",
    "    print(\"u idx = \", N - k + 1)\n",
    "    print(\"S prev idx = \", k - 1)\n",
    "    print()\n",
    "\n",
    "    s_str = \" + S{}(x{} + u{} - alpha)\".format(k - 1, N - k, N - k + 1) if k - 1 > 0 else \"\"\n",
    "    print(\"min{{P(u{}) + Q(x{}){}}}\".format(N - k + 1, N - k, s_str))\n",
    "    print()\n",
    "\n",
    "    c1 = \"x{}\".format(N - k)\n",
    "    c2 = \"S{}(x{})\".format(k, N - k)\n",
    "    c3 = \"u*{}({})\".format(N - k + 1, N - k)\n",
    "\n",
    "    df = pd.DataFrame(columns=[c1, c2, c3])\n",
    "    for x in [0, 100, 200, 300, 400, 500, 600, 700]:\n",
    "        min_S, u = S(k, x)\n",
    "        if min_S == -1:\n",
    "            break\n",
    "        row = [x, min_S, u]\n",
    "        df.loc[len(df)] = row\n",
    "\n",
    "    print(df)"
   ]
  },
  {
   "cell_type": "code",
   "execution_count": 93,
   "metadata": {},
   "outputs": [
    {
     "name": "stdout",
     "output_type": "stream",
     "text": [
      "k = 3\n",
      "k + 1 =  4\n",
      "x idx =  0\n",
      "u idx =  1\n",
      "S prev idx =  2\n",
      "\n",
      "min{P(u1) + Q(x0) + S2(x0 + u1 - alpha)}\n",
      "\n",
      "    x0  S3(x0)      u*1(0)\n",
      "0    0    1220  [300, 600]\n",
      "1  100    1100       [200]\n",
      "2  200     980       [100]\n",
      "3  300     840         [0]\n",
      "4  400     750         [0]\n",
      "5  500     650         [0]\n",
      "6  600     540         [0]\n"
     ]
    }
   ],
   "source": [
    "step(3)"
   ]
  },
  {
   "cell_type": "code",
   "execution_count": 94,
   "metadata": {},
   "outputs": [
    {
     "name": "stdout",
     "output_type": "stream",
     "text": [
      "k = 2\n",
      "k + 1 =  3\n",
      "x idx =  1\n",
      "u idx =  2\n",
      "S prev idx =  1\n",
      "\n",
      "min{P(u2) + Q(x1) + S1(x1 + u2 - alpha)}\n",
      "\n",
      "    x1  S2(x1)      u*2(1)\n",
      "0    0     810       [600]\n",
      "1  100     700  [200, 500]\n",
      "2  200     580       [100]\n",
      "3  300     440         [0]\n",
      "4  400     340         [0]\n",
      "5  500     240         [0]\n",
      "6  600     130         [0]\n"
     ]
    }
   ],
   "source": [
    "step(2)"
   ]
  },
  {
   "cell_type": "code",
   "execution_count": 95,
   "metadata": {},
   "outputs": [
    {
     "name": "stdout",
     "output_type": "stream",
     "text": [
      "k = 1\n",
      "k + 1 =  2\n",
      "x idx =  2\n",
      "u idx =  3\n",
      "S prev idx =  0\n",
      "\n",
      "min{P(u3) + Q(x2)}\n",
      "\n",
      "    x2  S1(x2) u*3(2)\n",
      "0    0     410  [300]\n",
      "1  100     290  [200]\n",
      "2  200     170  [100]\n",
      "3  300      30    [0]\n"
     ]
    }
   ],
   "source": [
    "step(1)"
   ]
  }
 ],
 "metadata": {
  "kernelspec": {
   "display_name": "Python 3",
   "language": "python",
   "name": "python3"
  },
  "language_info": {
   "codemirror_mode": {
    "name": "ipython",
    "version": 3
   },
   "file_extension": ".py",
   "mimetype": "text/x-python",
   "name": "python",
   "nbconvert_exporter": "python",
   "pygments_lexer": "ipython3",
   "version": "3.12.0"
  }
 },
 "nbformat": 4,
 "nbformat_minor": 2
}
